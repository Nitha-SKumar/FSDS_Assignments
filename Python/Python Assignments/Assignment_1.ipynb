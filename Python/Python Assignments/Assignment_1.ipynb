{
 "cells": [
  {
   "cell_type": "markdown",
   "id": "f8fba88e",
   "metadata": {},
   "source": [
    "#### 1. In the below elements which of them are values or an expression? eg:- values can be integer or string and expressions will be mathematical operators."
   ]
  },
  {
   "cell_type": "markdown",
   "id": "c5813bac",
   "metadata": {},
   "source": [
    "         '*'     -- expression\n",
    "         'hello' -- value\n",
    "         87.8\t  -- value\n",
    "         '-'     -- expression\n",
    "         '/'     -- expression\t\n",
    "         '+'\t  -- expression\n",
    "         6       -- value"
   ]
  },
  {
   "cell_type": "markdown",
   "id": "b5f7418f",
   "metadata": {},
   "source": [
    "#### 2. What is the difference between string and variable?"
   ]
  },
  {
   "cell_type": "markdown",
   "id": "40c5ee06",
   "metadata": {},
   "source": [
    "String:- Strings are some information or text and is represented in quotes and can be stored in a variable.\n",
    "\n",
    "eg:- ‘Hello’\n",
    "\n",
    "Variable:- values are stored in variable.\n",
    "\n",
    "eg:- a=3, b=’Hello’\n",
    "\n"
   ]
  },
  {
   "cell_type": "markdown",
   "id": "fc616bad",
   "metadata": {},
   "source": [
    "#### 3. Describe three different data types."
   ]
  },
  {
   "cell_type": "markdown",
   "id": "165fac2b",
   "metadata": {},
   "source": [
    "Three data types in python are int, float, complex.\n",
    "\n",
    "- int data type:-represent whole numbers \n",
    "- float data type:represent floating point values (decimal values)\n",
    "- complex data type: It has a real part and (imaginary part)j."
   ]
  },
  {
   "cell_type": "code",
   "execution_count": 19,
   "id": "9e1ba7ad",
   "metadata": {},
   "outputs": [
    {
     "data": {
      "text/plain": [
       "int"
      ]
     },
     "execution_count": 19,
     "metadata": {},
     "output_type": "execute_result"
    }
   ],
   "source": [
    "x=3 #int data type\n",
    "type(x)"
   ]
  },
  {
   "cell_type": "code",
   "execution_count": 20,
   "id": "22be9c51",
   "metadata": {},
   "outputs": [
    {
     "data": {
      "text/plain": [
       "float"
      ]
     },
     "execution_count": 20,
     "metadata": {},
     "output_type": "execute_result"
    }
   ],
   "source": [
    "y=50.6 #float data type\n",
    "type(y)"
   ]
  },
  {
   "cell_type": "code",
   "execution_count": 24,
   "id": "b97b5a7e",
   "metadata": {},
   "outputs": [
    {
     "data": {
      "text/plain": [
       "complex"
      ]
     },
     "execution_count": 24,
     "metadata": {},
     "output_type": "execute_result"
    }
   ],
   "source": [
    "z=10+4j #complex data type\n",
    "type(z)"
   ]
  },
  {
   "cell_type": "code",
   "execution_count": 25,
   "id": "669471c7",
   "metadata": {},
   "outputs": [
    {
     "name": "stdout",
     "output_type": "stream",
     "text": [
      "10.0\n",
      "4.0\n"
     ]
    }
   ],
   "source": [
    "print(z.real)\n",
    "print(z.imag)"
   ]
  },
  {
   "cell_type": "markdown",
   "id": "d87daa7a",
   "metadata": {},
   "source": [
    "#### 4. What is an expression made up of? What do all expressions do?"
   ]
  },
  {
   "cell_type": "markdown",
   "id": "bda6f161",
   "metadata": {},
   "source": [
    "Expression is a combination of operators and operands\n",
    "eg: x=5, x=x+1\n",
    "\n",
    "An expression is used to evaluate as per the precedence of its operators.\n",
    "Different types of expression are,\n",
    "\n",
    "-\tConstant Expressions x=10+3\n",
    "-\tArithmetic Expressions x =4,y = 1, add = x + y\n",
    "-\tFloating Expressions result will be a floating point number\n",
    "-\tRelational Expressions a>b\n",
    "-\tLogical Expressions a and B\n",
    "-\tBitwise Expressions a>>2\n"
   ]
  },
  {
   "cell_type": "markdown",
   "id": "4c92acdf",
   "metadata": {},
   "source": [
    "#### 5. This assignment statements, like spam = 10. What is the difference between an  expression and a statement?"
   ]
  },
  {
   "cell_type": "markdown",
   "id": "23698d99",
   "metadata": {},
   "source": [
    "A statement is an instruction that the Python interpreter can execute. \n",
    "eg:- for, while , import\n",
    "    \n",
    "An expression is a combination of values, variables, operators. Expressions need to be evaluated\n",
    "eg:-X= 10+2 is an expression. If it is to be printed, use print statement to get the result.\n"
   ]
  },
  {
   "cell_type": "markdown",
   "id": "cdf83e3f",
   "metadata": {},
   "source": [
    "#### 6. After running the following code, what does the variable bacon contain?"
   ]
  },
  {
   "cell_type": "code",
   "execution_count": 6,
   "id": "be03103e",
   "metadata": {},
   "outputs": [
    {
     "data": {
      "text/plain": [
       "23"
      ]
     },
     "execution_count": 6,
     "metadata": {},
     "output_type": "execute_result"
    }
   ],
   "source": [
    "bacon = 22\n",
    "bacon + 1"
   ]
  },
  {
   "cell_type": "markdown",
   "id": "985848c4",
   "metadata": {},
   "source": [
    "After execution, the value of bacon is 23"
   ]
  },
  {
   "cell_type": "markdown",
   "id": "15832445",
   "metadata": {},
   "source": [
    "#### 7. What should the values of the following two terms be?\n",
    "\n"
   ]
  },
  {
   "cell_type": "code",
   "execution_count": 7,
   "id": "61e63c24",
   "metadata": {},
   "outputs": [
    {
     "data": {
      "text/plain": [
       "'spamspamspam'"
      ]
     },
     "execution_count": 7,
     "metadata": {},
     "output_type": "execute_result"
    }
   ],
   "source": [
    "'spam' + 'spamspam'\n"
   ]
  },
  {
   "cell_type": "code",
   "execution_count": 9,
   "id": "14f414cd",
   "metadata": {},
   "outputs": [
    {
     "data": {
      "text/plain": [
       "'spamspamspam'"
      ]
     },
     "execution_count": 9,
     "metadata": {},
     "output_type": "execute_result"
    }
   ],
   "source": [
    "'spam' * 3"
   ]
  },
  {
   "cell_type": "markdown",
   "id": "40d0afa2",
   "metadata": {},
   "source": [
    "#### 8. Why is eggs a valid variable name while 100 is invalid?"
   ]
  },
  {
   "cell_type": "markdown",
   "id": "0ef25bec",
   "metadata": {},
   "source": [
    "Variable declaration in python\n",
    "   - start with a letter or the underscore character.\n",
    "   - cannot start with a number.\n",
    "   - alpha-numeric characters and underscores (A-z, 0-9, and _ ).\n",
    "   - case-sensitive ie, Hello and HELLO, hello are 3 different variables.\n",
    "   - keywords cannot be used naming the variable.\n",
    "\n",
    "So here,100 is invalid and can be used as a variable by adding'a100' or_100"
   ]
  },
  {
   "cell_type": "code",
   "execution_count": 29,
   "id": "13a5cd54",
   "metadata": {},
   "outputs": [
    {
     "name": "stdout",
     "output_type": "stream",
     "text": [
      "hello\n",
      "hello\n"
     ]
    }
   ],
   "source": [
    "egg='hello' \n",
    "_100='hello' \n",
    "print(egg) \n",
    "print(_100) "
   ]
  },
  {
   "cell_type": "markdown",
   "id": "3135eefd",
   "metadata": {},
   "source": [
    "#### 9. What three functions can be used to get the integer, floating-point number, or string version of a value?"
   ]
  },
  {
   "cell_type": "code",
   "execution_count": 15,
   "id": "5557e3e7",
   "metadata": {},
   "outputs": [],
   "source": [
    "a=45\n",
    "b=34.6\n",
    "c='Python is awesome'"
   ]
  },
  {
   "cell_type": "code",
   "execution_count": 26,
   "id": "90b6de3a",
   "metadata": {},
   "outputs": [
    {
     "name": "stdout",
     "output_type": "stream",
     "text": [
      "<class 'int'>\n",
      "<class 'float'>\n",
      "<class 'str'>\n"
     ]
    }
   ],
   "source": [
    "print(type(a))\n",
    "print(type(b))\n",
    "print(type(c))"
   ]
  },
  {
   "attachments": {},
   "cell_type": "markdown",
   "id": "7253b7d7",
   "metadata": {},
   "source": [
    "#### 10. Why does this expression cause an error? How can you fix it?\n",
    "'I have eaten ' + 99 + ' burritos.'"
   ]
  },
  {
   "cell_type": "code",
   "execution_count": 10,
   "id": "7f666d8c",
   "metadata": {},
   "outputs": [
    {
     "data": {
      "text/plain": [
       "'I have eaten 99 burritos.'"
      ]
     },
     "execution_count": 10,
     "metadata": {},
     "output_type": "execute_result"
    }
   ],
   "source": [
    "#Concatenation of strings and integer is not possible. To fix this problem, take str of 99( str(99)).\n",
    "'I have eaten ' + str('99') + ' burritos.'"
   ]
  }
 ],
 "metadata": {
  "kernelspec": {
   "display_name": "Python 3",
   "language": "python",
   "name": "python3"
  },
  "language_info": {
   "codemirror_mode": {
    "name": "ipython",
    "version": 3
   },
   "file_extension": ".py",
   "mimetype": "text/x-python",
   "name": "python",
   "nbconvert_exporter": "python",
   "pygments_lexer": "ipython3",
   "version": "3.8.8"
  }
 },
 "nbformat": 4,
 "nbformat_minor": 5
}
