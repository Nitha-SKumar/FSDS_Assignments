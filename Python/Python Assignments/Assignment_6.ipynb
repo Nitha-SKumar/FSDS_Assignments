{
 "cells": [
  {
   "cell_type": "markdown",
   "id": "b2b18e5f",
   "metadata": {},
   "source": [
    "### 1.  What are escape characters, and how do you use them?"
   ]
  },
  {
   "cell_type": "markdown",
   "id": "07f2bd6a",
   "metadata": {},
   "source": [
    "To insert characters that are illegal in a string, use an escape character.\n",
    "An escape character is a backslash \\ followed by the character you want to insert."
   ]
  },
  {
   "cell_type": "markdown",
   "id": "903dff59",
   "metadata": {},
   "source": [
    "### 2.  What do the escape characters n and t stand for?"
   ]
  },
  {
   "cell_type": "markdown",
   "id": "a9892960",
   "metadata": {},
   "source": [
    "\\n is a newline, \\t is a tab"
   ]
  },
  {
   "cell_type": "markdown",
   "id": "92aedb01",
   "metadata": {},
   "source": [
    "### 3. What is the way to include backslash characters in a string?\n"
   ]
  },
  {
   "cell_type": "raw",
   "id": "807d60be",
   "metadata": {},
   "source": [
    "The \"\\\\\" escape character will represent the backslash character in a string"
   ]
  },
  {
   "cell_type": "code",
   "execution_count": 14,
   "id": "9ef00c1f",
   "metadata": {},
   "outputs": [
    {
     "name": "stdout",
     "output_type": "stream",
     "text": [
      "\\\n"
     ]
    }
   ],
   "source": [
    "x = \"\\\\\"\n",
    "print(x)"
   ]
  },
  {
   "cell_type": "code",
   "execution_count": 15,
   "id": "ff82e510",
   "metadata": {},
   "outputs": [
    {
     "name": "stdout",
     "output_type": "stream",
     "text": [
      "abc\\123\n"
     ]
    }
   ],
   "source": [
    "r_text = r\"abc\\123\"\n",
    "\n",
    "print(r_text)"
   ]
  },
  {
   "cell_type": "markdown",
   "id": "714366ff",
   "metadata": {},
   "source": [
    "\n",
    "### 4. The string &quot;Howl&#39;s Moving Castle&quot; is a correct value. Why isn&#39;t the single quote character in the word Howl&#39;s not escaped a problem?\n"
   ]
  },
  {
   "cell_type": "code",
   "execution_count": 10,
   "id": "7669b28b",
   "metadata": {},
   "outputs": [
    {
     "data": {
      "text/plain": [
       "\"Howl's Moving Castle\""
      ]
     },
     "execution_count": 10,
     "metadata": {},
     "output_type": "execute_result"
    }
   ],
   "source": [
    "\"Howl's Moving Castle\""
   ]
  },
  {
   "cell_type": "markdown",
   "id": "a9f02d56",
   "metadata": {},
   "source": [
    "It is wrapped in double quotes."
   ]
  },
  {
   "cell_type": "markdown",
   "id": "8127d3bf",
   "metadata": {},
   "source": [
    "### 5. How do you write a string of newlines if you don&#39;t want to use the n character?\n"
   ]
  },
  {
   "cell_type": "code",
   "execution_count": 16,
   "id": "0f5046f1",
   "metadata": {},
   "outputs": [
    {
     "name": "stdout",
     "output_type": "stream",
     "text": [
      "physical\n",
      "distancing\n"
     ]
    }
   ],
   "source": [
    "import os\n",
    "keyword = 'physical'+ os.linesep + 'distancing'\n",
    "print(keyword)"
   ]
  },
  {
   "cell_type": "code",
   "execution_count": 18,
   "id": "b27bd973",
   "metadata": {},
   "outputs": [
    {
     "name": "stdout",
     "output_type": "stream",
     "text": [
      "Python is \n",
      "awesome\n"
     ]
    }
   ],
   "source": [
    "string='''Python is \n",
    "awesome'''\n",
    "print(string)"
   ]
  },
  {
   "cell_type": "markdown",
   "id": "6ce16606",
   "metadata": {},
   "source": [
    "### 6. What are the values of the given expressions? &#39;Hello, world!&#39;[1] &#39;Hello, world!&#39;[0:5] &#39;Hello, world!&#39;[:5] &#39;Hello, world!&#39;[3:]\n"
   ]
  },
  {
   "cell_type": "code",
   "execution_count": 1,
   "id": "3580a0c2",
   "metadata": {},
   "outputs": [
    {
     "data": {
      "text/plain": [
       "'e'"
      ]
     },
     "execution_count": 1,
     "metadata": {},
     "output_type": "execute_result"
    }
   ],
   "source": [
    "'Hello, world!'[1]"
   ]
  },
  {
   "cell_type": "code",
   "execution_count": 2,
   "id": "46a49f53",
   "metadata": {},
   "outputs": [
    {
     "data": {
      "text/plain": [
       "'Hello'"
      ]
     },
     "execution_count": 2,
     "metadata": {},
     "output_type": "execute_result"
    }
   ],
   "source": [
    "'Hello, world!'[0:5] "
   ]
  },
  {
   "cell_type": "code",
   "execution_count": 3,
   "id": "2f9db769",
   "metadata": {},
   "outputs": [
    {
     "data": {
      "text/plain": [
       "'Hello'"
      ]
     },
     "execution_count": 3,
     "metadata": {},
     "output_type": "execute_result"
    }
   ],
   "source": [
    "'Hello, world!'[:5] "
   ]
  },
  {
   "cell_type": "code",
   "execution_count": 4,
   "id": "4871a74f",
   "metadata": {},
   "outputs": [
    {
     "data": {
      "text/plain": [
       "'lo, world!'"
      ]
     },
     "execution_count": 4,
     "metadata": {},
     "output_type": "execute_result"
    }
   ],
   "source": [
    "'Hello, world!'[3:]"
   ]
  },
  {
   "cell_type": "markdown",
   "id": "58f57b07",
   "metadata": {},
   "source": [
    "### 7. What are the values of the following expressions &#39;Hello&#39;.upper() &#39;Hello&#39;.upper().isupper() &#39;Hello&#39;.upper().lower()"
   ]
  },
  {
   "cell_type": "code",
   "execution_count": 5,
   "id": "215a8d33",
   "metadata": {},
   "outputs": [
    {
     "data": {
      "text/plain": [
       "'HELLO'"
      ]
     },
     "execution_count": 5,
     "metadata": {},
     "output_type": "execute_result"
    }
   ],
   "source": [
    "'Hello'.upper()"
   ]
  },
  {
   "cell_type": "code",
   "execution_count": 6,
   "id": "6fa9a122",
   "metadata": {},
   "outputs": [
    {
     "data": {
      "text/plain": [
       "True"
      ]
     },
     "execution_count": 6,
     "metadata": {},
     "output_type": "execute_result"
    }
   ],
   "source": [
    "'Hello'.upper().isupper() "
   ]
  },
  {
   "cell_type": "code",
   "execution_count": 7,
   "id": "6f7684fa",
   "metadata": {},
   "outputs": [
    {
     "data": {
      "text/plain": [
       "'hello'"
      ]
     },
     "execution_count": 7,
     "metadata": {},
     "output_type": "execute_result"
    }
   ],
   "source": [
    "'Hello'.upper().lower()"
   ]
  },
  {
   "cell_type": "markdown",
   "id": "ec397d49",
   "metadata": {},
   "source": [
    "### 8. What are the values of the following expressions &#39;Remember, remember, the fifth of July.&#39;.split() &#39;-&#39;.join(&#39;There can only one.&#39;.split())\n"
   ]
  },
  {
   "cell_type": "code",
   "execution_count": 8,
   "id": "3b1bd5ad",
   "metadata": {},
   "outputs": [
    {
     "data": {
      "text/plain": [
       "['Remember,', 'remember,', 'the', 'fifth', 'of', 'July.']"
      ]
     },
     "execution_count": 8,
     "metadata": {},
     "output_type": "execute_result"
    }
   ],
   "source": [
    "'Remember, remember, the fifth of July.'.split() "
   ]
  },
  {
   "cell_type": "code",
   "execution_count": 9,
   "id": "a758ae1d",
   "metadata": {},
   "outputs": [
    {
     "data": {
      "text/plain": [
       "'There-can-only-one.'"
      ]
     },
     "execution_count": 9,
     "metadata": {},
     "output_type": "execute_result"
    }
   ],
   "source": [
    "'-'.join('There can only one.'.split())"
   ]
  },
  {
   "cell_type": "markdown",
   "id": "10f08636",
   "metadata": {},
   "source": [
    "### 9. What are the methods for right-justifying, left-justifying, and centering a string?\n"
   ]
  },
  {
   "cell_type": "markdown",
   "id": "cce91831",
   "metadata": {},
   "source": [
    "The rjust( ),ljust( ),center( ) string methods, respectively"
   ]
  },
  {
   "cell_type": "code",
   "execution_count": 29,
   "id": "1673be1e",
   "metadata": {},
   "outputs": [
    {
     "name": "stdout",
     "output_type": "stream",
     "text": [
      "......ineuron.......\n",
      ".............ineuron\n",
      "ineuron.............\n"
     ]
    }
   ],
   "source": [
    "i='ineuron'\n",
    "print(i.center(20,'.'))\n",
    "print(i.rjust(20,'.'))\n",
    "print(i.ljust(20,'.'))"
   ]
  },
  {
   "cell_type": "markdown",
   "id": "1bd6a4b6",
   "metadata": {},
   "source": [
    "### 10. What is the best way to remove whitespace characters from the start or end?"
   ]
  },
  {
   "cell_type": "markdown",
   "id": "33bfe341",
   "metadata": {},
   "source": [
    "strip()- Python String strip() function will remove leading and trailing whitespaces.\n",
    "\n",
    "The lstrip() and rstrip() methods remove whitesapce characters from the left and right ends of a string respectively"
   ]
  },
  {
   "cell_type": "code",
   "execution_count": 19,
   "id": "d175fb51",
   "metadata": {},
   "outputs": [
    {
     "name": "stdout",
     "output_type": "stream",
     "text": [
      "ineuron\n",
      "  ineuron\n",
      "ineuron  \n"
     ]
    }
   ],
   "source": [
    "s='  ineuron  '\n",
    "print(s.strip())\n",
    "print(s.rstrip())\n",
    "print(s.lstrip())"
   ]
  }
 ],
 "metadata": {
  "kernelspec": {
   "display_name": "Python 3",
   "language": "python",
   "name": "python3"
  },
  "language_info": {
   "codemirror_mode": {
    "name": "ipython",
    "version": 3
   },
   "file_extension": ".py",
   "mimetype": "text/x-python",
   "name": "python",
   "nbconvert_exporter": "python",
   "pygments_lexer": "ipython3",
   "version": "3.8.8"
  }
 },
 "nbformat": 4,
 "nbformat_minor": 5
}
