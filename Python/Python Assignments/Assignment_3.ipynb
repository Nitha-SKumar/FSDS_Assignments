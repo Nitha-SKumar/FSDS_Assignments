{
 "cells": [
  {
   "cell_type": "markdown",
   "id": "4e5fdbcd",
   "metadata": {},
   "source": [
    "### 1. Why are functions advantageous to have in your programs?\n"
   ]
  },
  {
   "cell_type": "markdown",
   "id": "c586ab68",
   "metadata": {},
   "source": [
    "- Functions reduce the need for duplicate code. \n",
    "- This makes programs shorter, easier to read, and easier to update. \n",
    "- code reusability."
   ]
  },
  {
   "cell_type": "markdown",
   "id": "22abf4c2",
   "metadata": {},
   "source": [
    "### 2. When does the code in a function run: when it's specified or when it's called?\n"
   ]
  },
  {
   "cell_type": "markdown",
   "id": "779a4f83",
   "metadata": {},
   "source": [
    "When a function is 'called' the program 'leaves' the current section of code and begins to execute the first line inside the function.\n",
    "not when the the function is specified"
   ]
  },
  {
   "cell_type": "markdown",
   "id": "be92b292",
   "metadata": {},
   "source": [
    "### 3. What statement creates a function?\n"
   ]
  },
  {
   "cell_type": "raw",
   "id": "72a62e2d",
   "metadata": {},
   "source": [
    "Syntax of Function:\n",
    "def function_name(parameters):\n",
    "    \"\"\"doc string\"\"\"          \n",
    "    -----function body-----\n",
    "    -----function body-----\n",
    "    return value"
   ]
  },
  {
   "cell_type": "markdown",
   "id": "3b2a6558",
   "metadata": {},
   "source": [
    "### 4. What is the difference between a function and a function call?\n"
   ]
  },
  {
   "cell_type": "markdown",
   "id": "9dec2b49",
   "metadata": {},
   "source": [
    "- Function is a piece of code for a particular task which can be reused whenever it is called in the program.\n",
    "- Function call uses the function to do the task.Unless a function is called there is no use of that function. "
   ]
  },
  {
   "cell_type": "markdown",
   "id": "bf9523d8",
   "metadata": {},
   "source": [
    "### 5. How many global scopes are there in a Python program? How many local scopes?\n"
   ]
  },
  {
   "cell_type": "markdown",
   "id": "4e91b2ae",
   "metadata": {},
   "source": [
    "There is one global scope, and a local scope is created whenever a function is called."
   ]
  },
  {
   "cell_type": "markdown",
   "id": "caf68deb",
   "metadata": {},
   "source": [
    "### 6. What happens to variables in a local scope when the function call returns?\n"
   ]
  },
  {
   "cell_type": "markdown",
   "id": "ce7d7f47",
   "metadata": {},
   "source": [
    "When the execution of the function terminates, the local variables are destroyed."
   ]
  },
  {
   "cell_type": "markdown",
   "id": "64b1af82",
   "metadata": {},
   "source": [
    "### 7. What is the concept of a return value? Is it possible to have a return value in an expression?\n"
   ]
  },
  {
   "cell_type": "markdown",
   "id": "736cf556",
   "metadata": {},
   "source": [
    "- A return is a value that a function returns to the calling script or function when it completes its task. A return value can be any one of the four variable types: handle, integer, object, or string\n",
    "- Return value can be used as a part of expression"
   ]
  },
  {
   "cell_type": "markdown",
   "id": "189ea885",
   "metadata": {},
   "source": [
    "### 8. If a function does not have a return statement, what is the return value of a call to that function?\n"
   ]
  },
  {
   "cell_type": "markdown",
   "id": "b118c0b6",
   "metadata": {},
   "source": [
    " If there is no return statement for a function, its return value is None."
   ]
  },
  {
   "cell_type": "markdown",
   "id": "2e4a2767",
   "metadata": {},
   "source": [
    "### 9. How do you make a function variable refer to the global variable?\n"
   ]
  },
  {
   "cell_type": "markdown",
   "id": "7da21d72",
   "metadata": {},
   "source": [
    "A global statement will force a variable in a function to refer to the global variable. If you want to refer to a global variable in a function, you can use the global keyword to declare which variables are global."
   ]
  },
  {
   "cell_type": "markdown",
   "id": "f5ca66f1",
   "metadata": {},
   "source": [
    "### 10. What is the data type of None?\n"
   ]
  },
  {
   "cell_type": "markdown",
   "id": "74f5a84b",
   "metadata": {},
   "source": [
    "The None keyword is used to define a null value. None is a data type of its own (NoneType)"
   ]
  },
  {
   "cell_type": "markdown",
   "id": "a6c7ed77",
   "metadata": {},
   "source": [
    "### 11. What does the sentence import areallyourpetsnamederic do?\n"
   ]
  },
  {
   "cell_type": "markdown",
   "id": "9fe81c6b",
   "metadata": {},
   "source": [
    "That import statement imports a module named areallyourpetsnamederic"
   ]
  },
  {
   "cell_type": "markdown",
   "id": "ac334618",
   "metadata": {},
   "source": [
    "### 12. If you had a bacon() feature in a spam module, what would you call it after importing spam?\n"
   ]
  },
  {
   "cell_type": "markdown",
   "id": "1824826a",
   "metadata": {},
   "source": [
    "spam.bacon()"
   ]
  },
  {
   "cell_type": "markdown",
   "id": "068aa427",
   "metadata": {},
   "source": [
    "### 13. What can you do to save a programme from crashing if it encounters an error?\n"
   ]
  },
  {
   "cell_type": "markdown",
   "id": "3251dcd2",
   "metadata": {},
   "source": [
    "Place the line of code that might cause an error in a try clause and use except block to handle the error"
   ]
  },
  {
   "cell_type": "markdown",
   "id": "1de5d169",
   "metadata": {},
   "source": [
    "### 14. What is the purpose of the try clause? What is the purpose of the except clause?\n",
    "\n"
   ]
  },
  {
   "cell_type": "markdown",
   "id": "498dfed5",
   "metadata": {},
   "source": [
    "The code that could potentially cause an error goes in the try clause. The code that executes if an error happens goes in the except clause."
   ]
  }
 ],
 "metadata": {
  "kernelspec": {
   "display_name": "Python 3",
   "language": "python",
   "name": "python3"
  },
  "language_info": {
   "codemirror_mode": {
    "name": "ipython",
    "version": 3
   },
   "file_extension": ".py",
   "mimetype": "text/x-python",
   "name": "python",
   "nbconvert_exporter": "python",
   "pygments_lexer": "ipython3",
   "version": "3.8.8"
  }
 },
 "nbformat": 4,
 "nbformat_minor": 5
}
