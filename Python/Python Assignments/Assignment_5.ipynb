{
 "cells": [
  {
   "cell_type": "markdown",
   "id": "7c55d4d7",
   "metadata": {},
   "source": [
    "### 1. What does an empty dictionary&#39;s code look like?\n"
   ]
  },
  {
   "cell_type": "markdown",
   "id": "0a1ee281",
   "metadata": {},
   "source": [
    "- By declaring empty dictionary\n",
    "    dict={}\n",
    "- using dict() method\n"
   ]
  },
  {
   "cell_type": "markdown",
   "id": "42665c3c",
   "metadata": {},
   "source": [
    "### 2. What is the value of a dictionary value with the key &#39;foo&#39; and the value 42?\n"
   ]
  },
  {
   "cell_type": "code",
   "execution_count": 2,
   "id": "87b46f54",
   "metadata": {},
   "outputs": [
    {
     "data": {
      "text/plain": [
       "{'foo': 42}"
      ]
     },
     "execution_count": 2,
     "metadata": {},
     "output_type": "execute_result"
    }
   ],
   "source": [
    "{'foo':42}"
   ]
  },
  {
   "cell_type": "markdown",
   "id": "ec652296",
   "metadata": {},
   "source": [
    "### 3. What is the most significant distinction between a dictionary and a list?\n"
   ]
  },
  {
   "cell_type": "markdown",
   "id": "8d76a5e4",
   "metadata": {},
   "source": [
    "Dictionary\n",
    "\n",
    "- represented by {} \n",
    "- Unordered\n",
    "\n",
    "List\n",
    "- represented by []\n",
    "- are ordered\n",
    "\n",
    "The main difference is that items in dictionaries are accesses  via keys and not via their position\n"
   ]
  },
  {
   "cell_type": "markdown",
   "id": "fd329aee",
   "metadata": {},
   "source": [
    "### 4. What happens if you try to access spam[&#39;foo&#39;] if spam is {&#39;bar&#39;: 100}?"
   ]
  },
  {
   "cell_type": "markdown",
   "id": "1e4681d0",
   "metadata": {},
   "source": [
    "KeyError: 'foo'"
   ]
  },
  {
   "cell_type": "markdown",
   "id": "d8047de1",
   "metadata": {},
   "source": [
    "### 5. If a dictionary is stored in spam, what is the difference between the expressions &#39;cat&#39; in spam and &#39;cat&#39; in spam.keys()?\n"
   ]
  },
  {
   "cell_type": "markdown",
   "id": "07406c85",
   "metadata": {},
   "source": [
    "There is no difference . The operator checks whether a value exits as a key in the dictionary or not"
   ]
  },
  {
   "cell_type": "markdown",
   "id": "2ead5bc2",
   "metadata": {},
   "source": [
    "### 6. If a dictionary is stored in spam, what is the difference between the expressions &#39;cat&#39; in spam and &#39;cat&#39; in spam.values()?\n"
   ]
  },
  {
   "cell_type": "markdown",
   "id": "300ff8ec",
   "metadata": {},
   "source": [
    "'cat' in spam checks whether there is a 'cat' key in the dictionary, while 'cat' in spam.values() checks whether there is a value 'cat' for one of the keys in spam.\n",
    "\n"
   ]
  },
  {
   "cell_type": "markdown",
   "id": "eca7dbf6",
   "metadata": {},
   "source": [
    "### 7. What is a shortcut for the following code? if &#39;color&#39; not in spam: spam[&#39;color&#39;] = &#39;black&#39;\n",
    "\n"
   ]
  },
  {
   "cell_type": "markdown",
   "id": "fa0cd517",
   "metadata": {},
   "source": [
    "if 'color' not in spam:\n",
    "    spam['color']='Black'                          "
   ]
  },
  {
   "cell_type": "markdown",
   "id": "16e4d633",
   "metadata": {},
   "source": [
    "spam.setdefault('color','black')\n"
   ]
  },
  {
   "cell_type": "markdown",
   "id": "5979be58",
   "metadata": {},
   "source": [
    "### 8. How do you &quot;pretty print&quot; dictionary values using which module and function?"
   ]
  },
  {
   "cell_type": "markdown",
   "id": "3b0de7de",
   "metadata": {},
   "source": [
    "__1. Use pprint() to Pretty Print a Dictionary in Python__\n",
    "\n",
    "  pprint is a Python module that provides the capability to pretty print Python data types to be more readable. This module also supports pretty-printing dictionary.\n",
    "  \n",
    "   Within the pprint module there is a function with the same name pprint(), which is the function used to pretty-print the given string or object.\n",
    "\n",
    "   First, declare an array of dictionaries. Afterward, pretty print it using the function pprint.pprint()\n"
   ]
  },
  {
   "cell_type": "code",
   "execution_count": 4,
   "id": "c8dd6921",
   "metadata": {},
   "outputs": [
    {
     "name": "stdout",
     "output_type": "stream",
     "text": [
      "[{'Age': '23', 'Country': 'USA', 'Name': 'John'},\n",
      " {'Age': '44', 'Country': 'Spain', 'Name': 'Jose'},\n",
      " {'Age': '29', 'Country': 'UK', 'Name': 'Anne'},\n",
      " {'Age': '35', 'Country': 'Japan', 'Name': 'Lee'}]\n"
     ]
    }
   ],
   "source": [
    "import pprint\n",
    "\n",
    "dct_arr = [\n",
    "  {'Name': 'John', 'Age': '23', 'Country': 'USA'},\n",
    "  {'Name': 'Jose', 'Age': '44', 'Country': 'Spain'},\n",
    "  {'Name': 'Anne', 'Age': '29', 'Country': 'UK'},\n",
    "  {'Name': 'Lee', 'Age': '35', 'Country': 'Japan'}\n",
    "]\n",
    "\n",
    "pprint.pprint(dct_arr)"
   ]
  },
  {
   "cell_type": "markdown",
   "id": "9fb96bea",
   "metadata": {},
   "source": [
    "__2. Use json.dumps() to Pretty Print a Dictionary in Python__\n",
    "    \n",
    "  Within the Python json module, there is a function called dumps(), which converts a Python object into a JSON string. Aside from the conversion, it also formats the dictionary into a pretty JSON format, so this can be a viable way to pretty print a dictionary by first converting it into JSON.\n",
    "\n",
    "  The dumps() function accepts 3 parameters used for pretty printing: the object for conversion, a boolean value sort_keys, which determines whether the entries should be sorted by key, and indent, which specifies the number of spaces for indentation.\n",
    "\n",
    "   We will use the same example dictionary as above for this solution. sort_keys is set to False to disable sorting, and indent is set to 4 spaces."
   ]
  },
  {
   "cell_type": "code",
   "execution_count": 5,
   "id": "726d815c",
   "metadata": {},
   "outputs": [
    {
     "name": "stdout",
     "output_type": "stream",
     "text": [
      "[\n",
      "    {\n",
      "        \"Name\": \"John\",\n",
      "        \"Age\": \"23\",\n",
      "        \"Country\": \"USA\"\n",
      "    },\n",
      "    {\n",
      "        \"Name\": \"Jose\",\n",
      "        \"Age\": \"44\",\n",
      "        \"Country\": \"Spain\"\n",
      "    },\n",
      "    {\n",
      "        \"Name\": \"Anne\",\n",
      "        \"Age\": \"29\",\n",
      "        \"Country\": \"UK\"\n",
      "    },\n",
      "    {\n",
      "        \"Name\": \"Lee\",\n",
      "        \"Age\": \"35\",\n",
      "        \"Country\": \"Japan\"\n",
      "    }\n",
      "]\n"
     ]
    }
   ],
   "source": [
    "import json\n",
    "\n",
    "dct_arr = [\n",
    "  {'Name': 'John', 'Age': '23', 'Country': 'USA'},\n",
    "  {'Name': 'Jose', 'Age': '44', 'Country': 'Spain'},\n",
    "  {'Name': 'Anne', 'Age': '29', 'Country': 'UK'},\n",
    "  {'Name': 'Lee', 'Age': '35', 'Country': 'Japan'}\n",
    "]\n",
    "\n",
    "print(json.dumps(dct_arr, sort_keys=False, indent=4))"
   ]
  },
  {
   "cell_type": "markdown",
   "id": "d8faff45",
   "metadata": {},
   "source": [
    "- Use yaml.dump() to Pretty Print a Dictionary in Python\n",
    "\n",
    "Another way to pretty print a dictionary is by using the dump() function of the yaml module. It serves the same purpose as the json.dumps() function but in YAML format instead of JSON.\n",
    "\n",
    "First off, install the YAML module using pip:\n"
   ]
  },
  {
   "cell_type": "code",
   "execution_count": 7,
   "id": "e48b86db",
   "metadata": {},
   "outputs": [
    {
     "name": "stdout",
     "output_type": "stream",
     "text": [
      "Requirement already satisfied: pyyaml in /Users/nitha/opt/anaconda3/lib/python3.8/site-packages (5.4.1)\n",
      "Note: you may need to restart the kernel to use updated packages.\n"
     ]
    }
   ],
   "source": [
    "pip install pyyaml"
   ]
  },
  {
   "cell_type": "code",
   "execution_count": 1,
   "id": "37f83029",
   "metadata": {},
   "outputs": [
    {
     "name": "stdout",
     "output_type": "stream",
     "text": [
      "- Name: John\n",
      "  Age: '23'\n",
      "  Residence:\n",
      "    Country: USA\n",
      "    City: New York\n",
      "- Name: Jose\n",
      "  Age: '44'\n",
      "  Residence:\n",
      "    Country: Spain\n",
      "    City: Madrid\n",
      "- Name: Anne\n",
      "  Age: '29'\n",
      "  Residence:\n",
      "    Country: UK\n",
      "    City: England\n",
      "- Name: Lee\n",
      "  Age: '35'\n",
      "  Residence:\n",
      "    Country: Japan\n",
      "    City: Osaka\n",
      "\n"
     ]
    }
   ],
   "source": [
    "import yaml\n",
    "\n",
    "dct_arr = [\n",
    "  {'Name': 'John', 'Age': '23', 'Residence': {'Country':'USA', 'City': 'New York'}},\n",
    "  {'Name': 'Jose', 'Age': '44', 'Residence': {'Country':'Spain', 'City': 'Madrid'}},\n",
    "  {'Name': 'Anne', 'Age': '29', 'Residence': {'Country':'UK', 'City': 'England'}},\n",
    "  {'Name': 'Lee', 'Age': '35', 'Residence': {'Country':'Japan', 'City': 'Osaka'}}\n",
    "]\n",
    "\n",
    "print(yaml.dump(dct_arr, sort_keys=False, default_flow_style=False))"
   ]
  },
  {
   "cell_type": "code",
   "execution_count": null,
   "id": "bd10561a",
   "metadata": {},
   "outputs": [],
   "source": []
  }
 ],
 "metadata": {
  "kernelspec": {
   "display_name": "Python 3",
   "language": "python",
   "name": "python3"
  },
  "language_info": {
   "codemirror_mode": {
    "name": "ipython",
    "version": 3
   },
   "file_extension": ".py",
   "mimetype": "text/x-python",
   "name": "python",
   "nbconvert_exporter": "python",
   "pygments_lexer": "ipython3",
   "version": "3.8.8"
  }
 },
 "nbformat": 4,
 "nbformat_minor": 5
}
