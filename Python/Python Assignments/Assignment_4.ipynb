{
 "cells": [
  {
   "cell_type": "markdown",
   "id": "688e4a11",
   "metadata": {},
   "source": [
    "#### 1. What exactly is [ ]?\n"
   ]
  },
  {
   "cell_type": "markdown",
   "id": "2f3cf9b7",
   "metadata": {},
   "source": [
    "Empty list is represented by []. They are used to define \"list literals,\" allowing you to declare a list and its contents in your program"
   ]
  },
  {
   "cell_type": "markdown",
   "id": "1b6db532",
   "metadata": {},
   "source": [
    "#### 2. In a list of values stored in a variable called spam, how would you assign the value &#39;hello&#39; as the third value? (Assume [2, 4, 6, 8, 10] are in spam.) "
   ]
  },
  {
   "cell_type": "code",
   "execution_count": 3,
   "id": "4735e94a",
   "metadata": {},
   "outputs": [
    {
     "name": "stdout",
     "output_type": "stream",
     "text": [
      "[2, 4, 6, 8, 10]\n"
     ]
    },
    {
     "data": {
      "text/plain": [
       "[2, 4, 'Hello', 8, 10]"
      ]
     },
     "execution_count": 3,
     "metadata": {},
     "output_type": "execute_result"
    }
   ],
   "source": [
    "spam=[2,4,6,8,10]\n",
    "print(spam)\n",
    "spam[2]='Hello'\n",
    "spam"
   ]
  },
  {
   "cell_type": "markdown",
   "id": "6cbd749d",
   "metadata": {},
   "source": [
    "#### Let&#39;s pretend the spam includes the list [&#39;a&#39;, &#39;b&#39;, &#39;c&#39;, &#39;d&#39;] for the next three queries.\n"
   ]
  },
  {
   "cell_type": "markdown",
   "id": "5b84d797",
   "metadata": {},
   "source": [
    "#### 3. What is the value of spam[int(int(&#39;3&#39; * 2) / 11)]?\n"
   ]
  },
  {
   "cell_type": "code",
   "execution_count": 7,
   "id": "b7959062",
   "metadata": {},
   "outputs": [
    {
     "data": {
      "text/plain": [
       "'d'"
      ]
     },
     "execution_count": 7,
     "metadata": {},
     "output_type": "execute_result"
    }
   ],
   "source": [
    "spam=['a', 'b', 'c', 'd']\n",
    "spam[int(int('3' * 2) / 11)]"
   ]
  },
  {
   "cell_type": "markdown",
   "id": "f328cd2f",
   "metadata": {},
   "source": [
    "#### 4. What is the value of spam[-1]?\n"
   ]
  },
  {
   "cell_type": "code",
   "execution_count": 8,
   "id": "67377507",
   "metadata": {},
   "outputs": [
    {
     "data": {
      "text/plain": [
       "'d'"
      ]
     },
     "execution_count": 8,
     "metadata": {},
     "output_type": "execute_result"
    }
   ],
   "source": [
    "spam[-1]"
   ]
  },
  {
   "cell_type": "markdown",
   "id": "65323f6e",
   "metadata": {},
   "source": [
    "#### 5. What is the value of spam[:2]?\n"
   ]
  },
  {
   "cell_type": "code",
   "execution_count": 9,
   "id": "49294f20",
   "metadata": {},
   "outputs": [
    {
     "data": {
      "text/plain": [
       "['a', 'b']"
      ]
     },
     "execution_count": 9,
     "metadata": {},
     "output_type": "execute_result"
    }
   ],
   "source": [
    "spam[:2]"
   ]
  },
  {
   "cell_type": "markdown",
   "id": "46dcbcae",
   "metadata": {},
   "source": [
    "#### Let&#39;s pretend bacon has the list [3.14, &#39;cat,&#39; 11, &#39;cat,&#39; True] for the next three questions.\n"
   ]
  },
  {
   "cell_type": "markdown",
   "id": "a5de1a8b",
   "metadata": {},
   "source": [
    "#### 6. What is the value of bacon.index(&#39;cat&#39;)?\n"
   ]
  },
  {
   "cell_type": "code",
   "execution_count": 25,
   "id": "2d45b46e",
   "metadata": {},
   "outputs": [],
   "source": [
    "bacon=[3.14, 'cat', 11, 'cat', True]"
   ]
  },
  {
   "cell_type": "code",
   "execution_count": 26,
   "id": "bbe8a051",
   "metadata": {},
   "outputs": [
    {
     "data": {
      "text/plain": [
       "1"
      ]
     },
     "execution_count": 26,
     "metadata": {},
     "output_type": "execute_result"
    }
   ],
   "source": [
    "bacon.index('cat')"
   ]
  },
  {
   "cell_type": "markdown",
   "id": "d1132b38",
   "metadata": {},
   "source": [
    "index method returns the first index value of 'cat'"
   ]
  },
  {
   "cell_type": "markdown",
   "id": "fa5877df",
   "metadata": {},
   "source": [
    "#### 7. How does bacon.append(99) change the look of the list value in bacon?\n"
   ]
  },
  {
   "cell_type": "code",
   "execution_count": 27,
   "id": "d8f261e8",
   "metadata": {},
   "outputs": [
    {
     "name": "stdout",
     "output_type": "stream",
     "text": [
      "[3.14, 'cat', 11, 'cat', True]\n"
     ]
    },
    {
     "data": {
      "text/plain": [
       "[3.14, 'cat', 11, 'cat', True, 99]"
      ]
     },
     "execution_count": 27,
     "metadata": {},
     "output_type": "execute_result"
    }
   ],
   "source": [
    "print(bacon)\n",
    "bacon.append(99)\n",
    "bacon"
   ]
  },
  {
   "cell_type": "markdown",
   "id": "422b838c",
   "metadata": {},
   "source": [
    "#### 8. How does bacon.remove(&#39;cat&#39;) change the look of the list in bacon?\n"
   ]
  },
  {
   "cell_type": "code",
   "execution_count": 28,
   "id": "06ab6c62",
   "metadata": {},
   "outputs": [
    {
     "data": {
      "text/plain": [
       "[3.14, 11, 'cat', True, 99]"
      ]
     },
     "execution_count": 28,
     "metadata": {},
     "output_type": "execute_result"
    }
   ],
   "source": [
    "bacon.remove('cat')#The remove method removes the first occurence of the element in the list\n",
    "bacon"
   ]
  },
  {
   "cell_type": "markdown",
   "id": "7092137d",
   "metadata": {},
   "source": [
    "#### 9. What are the list concatenation and list replication operators?\n"
   ]
  },
  {
   "cell_type": "markdown",
   "id": "86941b6c",
   "metadata": {},
   "source": [
    "The operator for list concatenation is + and replication is *. "
   ]
  },
  {
   "cell_type": "code",
   "execution_count": 29,
   "id": "d13cd17d",
   "metadata": {},
   "outputs": [
    {
     "name": "stdout",
     "output_type": "stream",
     "text": [
      "['a', 'b', 'c', 'd', 'e', 'f', 'g']\n",
      "['e', 'f', 'g', 'e', 'f', 'g']\n"
     ]
    }
   ],
   "source": [
    "# Example\n",
    "list1 = ['a','b','c','d']\n",
    "list2 = ['e','f','g']\n",
    "print(list1 + list2) # List Concatenation\n",
    "print(list2*2) # List Replication"
   ]
  },
  {
   "cell_type": "markdown",
   "id": "42ce4b11",
   "metadata": {},
   "source": [
    "#### 10. What is difference between the list methods append() and insert()?\n"
   ]
  },
  {
   "cell_type": "markdown",
   "id": "89726275",
   "metadata": {},
   "source": [
    "append( ) is used to add values only to the end of a list, insert( ) can be used to add anywhere in the list."
   ]
  },
  {
   "cell_type": "code",
   "execution_count": 32,
   "id": "cb9f29b7",
   "metadata": {},
   "outputs": [
    {
     "name": "stdout",
     "output_type": "stream",
     "text": [
      "[2, 10, 20, 5, 6]\n",
      "[2, 10, 'hello', 20, 5, 6]\n"
     ]
    }
   ],
   "source": [
    "\n",
    "list = [2,10,20,5]\n",
    "list.append(6)\n",
    "print(list)\n",
    "list.insert(2,'hello')\n",
    "print(list)"
   ]
  },
  {
   "cell_type": "markdown",
   "id": "b45a01f2",
   "metadata": {},
   "source": [
    "#### 11. What are the two methods for removing items from a list?\n"
   ]
  },
  {
   "cell_type": "markdown",
   "id": "17ab71f6",
   "metadata": {},
   "source": [
    "remove(), del and pop() can be used to remove items from the list"
   ]
  },
  {
   "cell_type": "code",
   "execution_count": 38,
   "id": "c134df79",
   "metadata": {},
   "outputs": [
    {
     "name": "stdout",
     "output_type": "stream",
     "text": [
      "Miya\n",
      "Riya\n",
      "[12, 14, 12, 'Riya']\n"
     ]
    }
   ],
   "source": [
    "my_list = [12, 'Ann', 'Miya', 14, 'Riya', 12, 'Riya']\n",
    "print(my_list.pop(2))\n",
    "print(my_list.pop(3))\n",
    "del my_list[1]\n",
    "print(my_list)"
   ]
  },
  {
   "cell_type": "markdown",
   "id": "bfcc5ff4",
   "metadata": {},
   "source": [
    "#### 12. Describe how list values and string values are identical.\n"
   ]
  },
  {
   "cell_type": "markdown",
   "id": "e75f8d3b",
   "metadata": {},
   "source": [
    "- lists and strings can be passed to len() function\n",
    "- Both have index and slicable\n",
    "- be used with the in and not in operators."
   ]
  },
  {
   "cell_type": "markdown",
   "id": "d7061559",
   "metadata": {},
   "source": [
    "#### 13. What&#39;s the difference between tuples and lists?\n"
   ]
  },
  {
   "cell_type": "markdown",
   "id": "7c1ef2a9",
   "metadata": {},
   "source": [
    "- Lists are Mutable, Indexable and Slicable. \n",
    "- list are represented in [ ]\n",
    "- Tuples are Immutable but Indexable and Slicable.  \n",
    "- tuple is represented in  parentheses()"
   ]
  },
  {
   "cell_type": "markdown",
   "id": "4dc6c7b7",
   "metadata": {},
   "source": [
    "#### 14. How do you type a tuple value that only contains the integer 42?\n"
   ]
  },
  {
   "cell_type": "code",
   "execution_count": 41,
   "id": "b06ca9ef",
   "metadata": {},
   "outputs": [
    {
     "name": "stdout",
     "output_type": "stream",
     "text": [
      "<class 'int'>\n",
      "<class 'tuple'>\n"
     ]
    }
   ],
   "source": [
    "tuple=(42)\n",
    "print(type(tuple))\n",
    "tuple2=(42,)\n",
    "print(type(tuple2))"
   ]
  },
  {
   "cell_type": "markdown",
   "id": "933e43dc",
   "metadata": {},
   "source": [
    "#### 15. How do you get a list value&#39;s tuple form? How do you get a tuple value&#39;s list form?\n"
   ]
  },
  {
   "cell_type": "markdown",
   "id": "0bce21e9",
   "metadata": {},
   "source": [
    "- list can be converted to puple by tuple([1,2,3])\n",
    "- Tuple can be converted to liat by list((1,2,3))"
   ]
  },
  {
   "cell_type": "markdown",
   "id": "481fb79a",
   "metadata": {},
   "source": [
    "#### 16. Variables that &quot;contain&quot; list values are not necessarily lists themselves. Instead, what do they contain?\n"
   ]
  },
  {
   "cell_type": "markdown",
   "id": "f117e0b4",
   "metadata": {},
   "source": [
    "Variables will contain references to list values"
   ]
  },
  {
   "cell_type": "markdown",
   "id": "56e8c049",
   "metadata": {},
   "source": [
    "#### 17. How do you distinguish between copy.copy() and copy.deepcopy()?"
   ]
  },
  {
   "cell_type": "markdown",
   "id": "d86ba014",
   "metadata": {},
   "source": [
    "- .copy() create reference to original object. if there ia any change in the copied object - you change the original object. \n",
    "- .deepcopy() creates new object and does real copying of original object to new one. Changing new deepcopied object doesn't affect original object.\n",
    "\n"
   ]
  }
 ],
 "metadata": {
  "kernelspec": {
   "display_name": "Python 3",
   "language": "python",
   "name": "python3"
  },
  "language_info": {
   "codemirror_mode": {
    "name": "ipython",
    "version": 3
   },
   "file_extension": ".py",
   "mimetype": "text/x-python",
   "name": "python",
   "nbconvert_exporter": "python",
   "pygments_lexer": "ipython3",
   "version": "3.8.8"
  }
 },
 "nbformat": 4,
 "nbformat_minor": 5
}
