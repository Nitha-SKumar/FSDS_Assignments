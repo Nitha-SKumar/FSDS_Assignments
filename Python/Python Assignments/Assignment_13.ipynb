{
 "cells": [
  {
   "cell_type": "markdown",
   "id": "06215642",
   "metadata": {},
   "source": [
    "1. What advantages do Excel spreadsheets have over CSV spreadsheets?"
   ]
  },
  {
   "cell_type": "markdown",
   "id": "70a4011a",
   "metadata": {},
   "source": [
    "\n",
    "\n",
    "- Excel file formats are better for storing and analysing complex data.\n",
    "- An Excel stores data and can also do operations on the data using macros, formulas etc\n",
    "- CSV files are plain-text files, Does not contain formatting, formulas, macros, etc. It is also known as flat files"
   ]
  },
  {
   "cell_type": "markdown",
   "id": "671a2d34",
   "metadata": {},
   "source": [
    "2.What do you pass to csv.reader() and csv.writer() to create reader and writer objects?\n"
   ]
  },
  {
   "cell_type": "markdown",
   "id": "06946858",
   "metadata": {},
   "source": [
    "To write a CSV file with the csv module, First, call open() and pass it 'w' to open a file in write mode, and it create a object .That object pass in csv.writer()\n",
    "\n",
    "write_file = open('filename.csv','w')\n",
    "Writer = csv.writer(write_file)\n",
    "\n",
    "To read a CSV file with the csv module, first open it using the open() function and it create a object .That object pass in csv.reader()\n",
    "\n",
    "read_file = open('filename.csv')\n",
    "Reader = csv.reader(read_file)"
   ]
  },
  {
   "cell_type": "markdown",
   "id": "babb98c5",
   "metadata": {},
   "source": [
    "3. What modes do File objects for reader and writer objects need to be opened in?\n"
   ]
  },
  {
   "cell_type": "markdown",
   "id": "3d900e67",
   "metadata": {},
   "source": [
    "File objects need to be opened in \n",
    "- read-binary ('rb') for Reader objects \n",
    "- write-binary ('wb') for Writer objects.\n",
    "\n"
   ]
  },
  {
   "cell_type": "markdown",
   "id": "47deed6b",
   "metadata": {},
   "source": [
    "4. What method takes a list argument and writes it to a CSV file?\n"
   ]
  },
  {
   "cell_type": "raw",
   "id": "f9481e97",
   "metadata": {},
   "source": [
    "write_file = open('filename.csv','w')\n",
    "Writer = csv.writer(write_file)\n",
    "Writer.writerow(['pooja','das','hello'])"
   ]
  },
  {
   "cell_type": "markdown",
   "id": "cf19e392",
   "metadata": {},
   "source": [
    "5. What do the keyword arguments delimiter and line terminator do?\n"
   ]
  },
  {
   "cell_type": "markdown",
   "id": "8581a023",
   "metadata": {},
   "source": [
    "- delimiter argument changes the string used to separate cells in a row.\n",
    "\n",
    "- lineterminator argument changes the string used to separate rows."
   ]
  },
  {
   "cell_type": "markdown",
   "id": "749260dd",
   "metadata": {},
   "source": [
    "6. What function takes a string of JSON data and returns a Python data structure?"
   ]
  },
  {
   "cell_type": "markdown",
   "id": "3747553c",
   "metadata": {},
   "source": [
    "json.loads()"
   ]
  },
  {
   "cell_type": "markdown",
   "id": "4383b544",
   "metadata": {},
   "source": [
    "7. What function takes a Python data structure and returns a string of JSON data?"
   ]
  },
  {
   "cell_type": "markdown",
   "id": "ade42d94",
   "metadata": {},
   "source": [
    "json.dumps()"
   ]
  },
  {
   "cell_type": "code",
   "execution_count": null,
   "id": "a95256c9",
   "metadata": {},
   "outputs": [],
   "source": []
  }
 ],
 "metadata": {
  "kernelspec": {
   "display_name": "Python 3 (ipykernel)",
   "language": "python",
   "name": "python3"
  },
  "language_info": {
   "codemirror_mode": {
    "name": "ipython",
    "version": 3
   },
   "file_extension": ".py",
   "mimetype": "text/x-python",
   "name": "python",
   "nbconvert_exporter": "python",
   "pygments_lexer": "ipython3",
   "version": "3.9.12"
  }
 },
 "nbformat": 4,
 "nbformat_minor": 5
}
