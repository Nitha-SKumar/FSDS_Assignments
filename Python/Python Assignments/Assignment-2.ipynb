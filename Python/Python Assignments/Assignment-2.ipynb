{
 "cells": [
  {
   "cell_type": "markdown",
   "id": "3ff1a967",
   "metadata": {},
   "source": [
    "1.What are the two values of the Boolean data type? How do you write them?"
   ]
  },
  {
   "cell_type": "markdown",
   "id": "cd5d40b7",
   "metadata": {},
   "source": [
    "The two values of the Boolean data types are True and False."
   ]
  },
  {
   "cell_type": "code",
   "execution_count": 4,
   "id": "ac3523a4",
   "metadata": {},
   "outputs": [
    {
     "name": "stdout",
     "output_type": "stream",
     "text": [
      "True <class 'bool'>\n",
      "False <class 'bool'>\n"
     ]
    }
   ],
   "source": [
    "a=True\n",
    "b=False\n",
    "print(a,type(a))\n",
    "print(b,type(b))"
   ]
  },
  {
   "cell_type": "markdown",
   "id": "e551cd81",
   "metadata": {},
   "source": [
    "2.What are the three different types of Boolean operators?"
   ]
  },
  {
   "cell_type": "markdown",
   "id": "ac9def5f",
   "metadata": {},
   "source": [
    "Three different types of Boolean operators are AND,OR and NOT"
   ]
  },
  {
   "cell_type": "markdown",
   "id": "794f121e",
   "metadata": {},
   "source": [
    "3. Make a list of each Boolean operator's truth tables (i.e. every possible combination of Boolean values for the operator and what it evaluate )."
   ]
  },
  {
   "cell_type": "raw",
   "id": "c60c04ad",
   "metadata": {},
   "source": [
    "AND\t\t\t\t\tOR\t\t\t\t\tNOT\n",
    "A \tB\tOutput\t\t\tA\tB\tOutput\t\t\tA\tOutput\n",
    "0\t0\t0\t\t\t0\t0\t0\t\t\t0\t1\n",
    "0\t1\t0\t\t\t0\t1\t1\t\t\t1\t0\n",
    "1\t0\t0\t\t\t1\t0\t1\n",
    "1\t1\t1\t\t\t1\t1\t1\t\t\t\t\n"
   ]
  },
  {
   "cell_type": "markdown",
   "id": "58ff2fc2",
   "metadata": {},
   "source": [
    "4.What are the values of the following expressions?"
   ]
  },
  {
   "cell_type": "raw",
   "id": "1495fbbd",
   "metadata": {},
   "source": [
    "(5 > 4) and (3 == 5)\t             False\n",
    "not (5 > 4)\t            \t         False\n",
    "(5 > 4) or (3 == 5)\t                 True\n",
    "not ((5 > 4) or (3 == 5))\t         False\n",
    "(True and True) and (True == False)  False\n",
    "(not False) or (not True)            True\n"
   ]
  },
  {
   "cell_type": "code",
   "execution_count": 14,
   "id": "3ffdc476",
   "metadata": {},
   "outputs": [
    {
     "name": "stdout",
     "output_type": "stream",
     "text": [
      "False\n",
      "False\n",
      "True\n",
      "False\n",
      "False\n",
      "True\n"
     ]
    }
   ],
   "source": [
    "print((5 > 4)and(3 == 5))\n",
    "print(not (5 > 4))\n",
    "print((5 > 4) or (3 == 5))\n",
    "print(not ((5 > 4) or (3 == 5)))\n",
    "print((True and True) and (True== False)) \n",
    "print((not False) or (not True) )"
   ]
  },
  {
   "cell_type": "markdown",
   "id": "84bf4036",
   "metadata": {},
   "source": [
    "5.What are the six comparison operators?"
   ]
  },
  {
   "cell_type": "markdown",
   "id": "c38bc8b9",
   "metadata": {},
   "source": [
    "- Less than ( < )\n",
    "- Less than or equal to ( <= )\n",
    "- Greater than ( > )\n",
    "- Greater than or equal to ( >= )\n",
    "- Equal to ( == )\n",
    "- Not equal to ( != )\n"
   ]
  },
  {
   "cell_type": "markdown",
   "id": "33b22bbd",
   "metadata": {},
   "source": [
    "6.How do you tell the difference between the equal to and assignment operators? Describe a condition and when you would use one."
   ]
  },
  {
   "cell_type": "markdown",
   "id": "772381db",
   "metadata": {},
   "source": [
    "- = is used to store values in variable \n",
    "    - Eg:- a=10 value 10 is stored in a\n",
    "- ‘==’ is used to check a condition is true or false\n",
    "    - Eg:- 6==6 here the condition is True\n"
   ]
  },
  {
   "cell_type": "markdown",
   "id": "3d01a3db",
   "metadata": {},
   "source": [
    "7.Identify the three blocks in this code:"
   ]
  },
  {
   "cell_type": "code",
   "execution_count": 15,
   "id": "15bbd307",
   "metadata": {},
   "outputs": [
    {
     "name": "stdout",
     "output_type": "stream",
     "text": [
      "ham\n",
      "spam\n",
      "spam\n"
     ]
    }
   ],
   "source": [
    "spam = 0\n",
    "if spam == 10: \n",
    "    print('eggs') #Block 1\n",
    "if spam > 5: \n",
    "    print('bacon') #Block 2\n",
    "else:\n",
    "    print('ham')#Block 3\n",
    "print('spam')\n",
    "print('spam')\n"
   ]
  },
  {
   "cell_type": "markdown",
   "id": "efcd6360",
   "metadata": {},
   "source": [
    "8.Write code that prints Hello if 1 is stored in spam, prints Howdy if 2 is stored in spam, and prints Greetings! if anything else is stored in spam."
   ]
  },
  {
   "cell_type": "code",
   "execution_count": 17,
   "id": "d59f5b1e",
   "metadata": {},
   "outputs": [
    {
     "name": "stdout",
     "output_type": "stream",
     "text": [
      "Hello\n",
      "Howdy\n",
      "Greetings\n"
     ]
    }
   ],
   "source": [
    "def spam(spam):\n",
    "    if spam==1:\n",
    "        print('Hello')\n",
    "    elif spam==2:\n",
    "        print('Howdy')\n",
    "    else:\n",
    "        print('Greetings')\n",
    "        \n",
    "spam(1) \n",
    "spam(2)\n",
    "spam(3)"
   ]
  },
  {
   "cell_type": "markdown",
   "id": "f984df6b",
   "metadata": {},
   "source": [
    "9.If your programme is stuck in an endless loop, what keys you’ll press?"
   ]
  },
  {
   "cell_type": "markdown",
   "id": "ea08cf21",
   "metadata": {},
   "source": [
    "    Ctrl+c to sop a program i infinite loop"
   ]
  },
  {
   "cell_type": "markdown",
   "id": "2ba6d97c",
   "metadata": {},
   "source": [
    "10.How can you tell the difference between break and continue?"
   ]
  },
  {
   "cell_type": "markdown",
   "id": "c38562ed",
   "metadata": {},
   "source": [
    "   The 'break' statement will move the execution outside the loop if break condtion is satisfied. Whereas the 'continue' statement will move the execution to the start of the loop"
   ]
  },
  {
   "cell_type": "markdown",
   "id": "3d57c40e",
   "metadata": {},
   "source": [
    "11. In a for loop, what is the difference between range(10), range(0, 10), and range(0, 10, 1)?"
   ]
  },
  {
   "cell_type": "markdown",
   "id": "0a2e064b",
   "metadata": {},
   "source": [
    "- 1.The range(10) call range from 0 to 9 (but not include 10)\n",
    "- 2.The range (0,10) explicitly tells the loop to start at 0\n",
    "- 3.The range(0,10,1) explicitly tells the loop to increase the variable by 1 on each iteration"
   ]
  },
  {
   "cell_type": "markdown",
   "id": "254fa770",
   "metadata": {},
   "source": [
    "12. Write a short program that prints the numbers 1 to 10 using a for loop. Then write an equivalent program that prints the numbers 1 to 10 using a while loop."
   ]
  },
  {
   "cell_type": "code",
   "execution_count": 20,
   "id": "8d834d84",
   "metadata": {},
   "outputs": [
    {
     "name": "stdout",
     "output_type": "stream",
     "text": [
      "1 2 3 4 5 6 7 8 9 10 "
     ]
    }
   ],
   "source": [
    "#for loop\n",
    "for i in range(1,11):\n",
    "    print(i,end=' ')"
   ]
  },
  {
   "cell_type": "code",
   "execution_count": 23,
   "id": "9a127857",
   "metadata": {},
   "outputs": [
    {
     "name": "stdout",
     "output_type": "stream",
     "text": [
      "1 2 3 4 5 6 7 8 9 10 "
     ]
    }
   ],
   "source": [
    "#while loop\n",
    "n=1\n",
    "while(n<=10):\n",
    "    print(n,end=' ')\n",
    "    n=n+1"
   ]
  },
  {
   "cell_type": "markdown",
   "id": "7f82cef9",
   "metadata": {},
   "source": [
    "13. If you had a function named bacon() inside a module named spam, how would you call it after importing spam?"
   ]
  },
  {
   "cell_type": "markdown",
   "id": "cd2cbfe9",
   "metadata": {},
   "source": [
    "This function can be called with spam.bacon()"
   ]
  },
  {
   "cell_type": "code",
   "execution_count": null,
   "id": "dafa6785",
   "metadata": {},
   "outputs": [],
   "source": []
  }
 ],
 "metadata": {
  "kernelspec": {
   "display_name": "Python 3",
   "language": "python",
   "name": "python3"
  },
  "language_info": {
   "codemirror_mode": {
    "name": "ipython",
    "version": 3
   },
   "file_extension": ".py",
   "mimetype": "text/x-python",
   "name": "python",
   "nbconvert_exporter": "python",
   "pygments_lexer": "ipython3",
   "version": "3.8.8"
  }
 },
 "nbformat": 4,
 "nbformat_minor": 5
}
