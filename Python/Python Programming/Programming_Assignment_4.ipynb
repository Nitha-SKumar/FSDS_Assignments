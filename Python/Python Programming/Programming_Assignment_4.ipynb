{
 "cells": [
  {
   "cell_type": "markdown",
   "id": "f7b53f97",
   "metadata": {},
   "source": [
    "#### 1. Write a Python Program to Find the Factorial of a Number?\n"
   ]
  },
  {
   "cell_type": "code",
   "execution_count": 13,
   "id": "3925c448",
   "metadata": {},
   "outputs": [],
   "source": [
    "def factorial(num):\n",
    "    fact= 1\n",
    "    for i in range(1,num+1):\n",
    "        fact=fact*i\n",
    "    print(fact)   \n"
   ]
  },
  {
   "cell_type": "code",
   "execution_count": 15,
   "id": "a7f0238c",
   "metadata": {},
   "outputs": [
    {
     "name": "stdout",
     "output_type": "stream",
     "text": [
      "720\n"
     ]
    }
   ],
   "source": [
    "factorial(6)"
   ]
  },
  {
   "cell_type": "markdown",
   "id": "03b99335",
   "metadata": {},
   "source": [
    "#### 2. Write a Python Program to Display the multiplication Table?\n"
   ]
  },
  {
   "cell_type": "code",
   "execution_count": 16,
   "id": "676a68cd",
   "metadata": {},
   "outputs": [
    {
     "name": "stdout",
     "output_type": "stream",
     "text": [
      "5 x 1 = 5\n",
      "5 x 2 = 10\n",
      "5 x 3 = 15\n",
      "5 x 4 = 20\n",
      "5 x 5 = 25\n",
      "5 x 6 = 30\n",
      "5 x 7 = 35\n",
      "5 x 8 = 40\n",
      "5 x 9 = 45\n",
      "5 x 10 = 50\n"
     ]
    }
   ],
   "source": [
    "def mul_table(num):\n",
    "    for i in range(1, 11):\n",
    "        print(num, 'x', i, '=', num*i)\n",
    "mul_table(5)"
   ]
  },
  {
   "cell_type": "markdown",
   "id": "d0124a72",
   "metadata": {},
   "source": [
    "#### 3. Write a Python Program to Print the Fibonacci sequence?\n"
   ]
  },
  {
   "cell_type": "code",
   "execution_count": 33,
   "id": "fa65bd24",
   "metadata": {},
   "outputs": [
    {
     "data": {
      "text/plain": [
       "[1, 1, 2, 3, 5, 8, 13, 21]"
      ]
     },
     "execution_count": 33,
     "metadata": {},
     "output_type": "execute_result"
    }
   ],
   "source": [
    "def Fibanacci(num):\n",
    "    a=1\n",
    "    b=1\n",
    "    l=[]\n",
    "    for i in range(num):\n",
    "        l.append(a)\n",
    "        a,b=b,a+b\n",
    "    return l \n",
    "\n",
    "\n",
    "Fibanacci(8)  "
   ]
  },
  {
   "cell_type": "markdown",
   "id": "84e5d1fd",
   "metadata": {},
   "source": [
    "#### 4. Write a Python Program to Check Armstrong Number?\n"
   ]
  },
  {
   "cell_type": "code",
   "execution_count": 45,
   "id": "67a22da3",
   "metadata": {},
   "outputs": [
    {
     "name": "stdout",
     "output_type": "stream",
     "text": [
      "Enter a number: 153\n",
      "153 is an Armstrong Number\n"
     ]
    }
   ],
   "source": [
    "def ArmstrongNumber():\n",
    "    num = input('Enter a number: ')\n",
    "    sum = 0\n",
    "    for i in range(len(num)):\n",
    "        sum = sum + pow(int(num[i]),3)\n",
    "    if sum == int(num):\n",
    "        print(f'{num} is an Armstrong Number')\n",
    "    else:\n",
    "        print(f'{num} is  Not an Armstrong Number')\n",
    "\n",
    "\n",
    "ArmstrongNumber()\n"
   ]
  },
  {
   "cell_type": "markdown",
   "id": "86891a10",
   "metadata": {},
   "source": [
    "#### 5. Write a Python Program to Find Armstrong Number in an Interval?\n"
   ]
  },
  {
   "cell_type": "code",
   "execution_count": 50,
   "id": "ddf920f0",
   "metadata": {},
   "outputs": [
    {
     "name": "stdout",
     "output_type": "stream",
     "text": [
      "enter the lower limit100\n",
      "enter the upper limit1000\n",
      "153\n",
      "370\n",
      "371\n",
      "407\n"
     ]
    }
   ],
   "source": [
    "lower=int(input('enter the lower limit'))\n",
    "upper=int(input('enter the upper limit'))\n",
    "\n",
    "for num in range(lower, upper + 1):\n",
    "    order = len(str(num))\n",
    "    sum = 0\n",
    "    temp = num\n",
    "    while temp > 0:\n",
    "       digit = temp % 10\n",
    "       sum += digit ** order\n",
    "       temp //= 10\n",
    "    if num == sum:\n",
    "       print(num)"
   ]
  },
  {
   "cell_type": "markdown",
   "id": "b4556e80",
   "metadata": {},
   "source": [
    "#### 6. Write a Python Program to Find the Sum of Natural Numbers?"
   ]
  },
  {
   "cell_type": "code",
   "execution_count": 42,
   "id": "c2b144eb",
   "metadata": {},
   "outputs": [
    {
     "name": "stdout",
     "output_type": "stream",
     "text": [
      "enter a number100\n"
     ]
    },
    {
     "data": {
      "text/plain": [
       "5050.0"
      ]
     },
     "execution_count": 42,
     "metadata": {},
     "output_type": "execute_result"
    }
   ],
   "source": [
    "def sum_natural(num):\n",
    "    sum=num*((num+1)/2)\n",
    "    return sum\n",
    "\n",
    "num=int(input('enter a number'))\n",
    "sum_natural(num)        "
   ]
  }
 ],
 "metadata": {
  "kernelspec": {
   "display_name": "Python 3",
   "language": "python",
   "name": "python3"
  },
  "language_info": {
   "codemirror_mode": {
    "name": "ipython",
    "version": 3
   },
   "file_extension": ".py",
   "mimetype": "text/x-python",
   "name": "python",
   "nbconvert_exporter": "python",
   "pygments_lexer": "ipython3",
   "version": "3.8.8"
  }
 },
 "nbformat": 4,
 "nbformat_minor": 5
}
