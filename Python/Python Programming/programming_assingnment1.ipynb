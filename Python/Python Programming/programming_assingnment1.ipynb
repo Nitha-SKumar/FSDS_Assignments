{
 "cells": [
  {
   "cell_type": "markdown",
   "id": "b8a25aa9",
   "metadata": {},
   "source": [
    "1.Write a Python program to print \"Hello Python\"?"
   ]
  },
  {
   "cell_type": "code",
   "execution_count": 1,
   "id": "0b7fa98e",
   "metadata": {},
   "outputs": [
    {
     "name": "stdout",
     "output_type": "stream",
     "text": [
      "Hello Python\n"
     ]
    }
   ],
   "source": [
    "print('Hello Python')"
   ]
  },
  {
   "cell_type": "markdown",
   "id": "52918d76",
   "metadata": {},
   "source": [
    "2.Write a Python program to do arithmetical operations addition and division.?"
   ]
  },
  {
   "cell_type": "code",
   "execution_count": 5,
   "id": "1a4092e4",
   "metadata": {},
   "outputs": [
    {
     "name": "stdout",
     "output_type": "stream",
     "text": [
      "Sum is 14\n",
      "Division is 1.8\n"
     ]
    }
   ],
   "source": [
    "a=9\n",
    "b=5\n",
    "c=a+b\n",
    "d=a/b\n",
    "print('Sum is', c)\n",
    "print('Division is', d)"
   ]
  },
  {
   "cell_type": "markdown",
   "id": "da40f9f1",
   "metadata": {},
   "source": [
    "3.Write a Python program to find the area of a triangle?"
   ]
  },
  {
   "cell_type": "code",
   "execution_count": 7,
   "id": "5700d316",
   "metadata": {},
   "outputs": [
    {
     "name": "stdout",
     "output_type": "stream",
     "text": [
      "Enter the height4\n",
      "Enter the base5\n",
      "Area of traingle is 10.0\n"
     ]
    }
   ],
   "source": [
    "height=int(input('Enter the height'))\n",
    "base=int(input('Enter the base'))\n",
    "#area of triangle\n",
    "area=1/2*height*base\n",
    "print('Area of traingle is', area)"
   ]
  },
  {
   "cell_type": "markdown",
   "id": "de9e4e37",
   "metadata": {},
   "source": [
    "4.Write a Python program to swap two variables?"
   ]
  },
  {
   "cell_type": "code",
   "execution_count": 9,
   "id": "811948fb",
   "metadata": {},
   "outputs": [
    {
     "name": "stdout",
     "output_type": "stream",
     "text": [
      "enter a number, x= 10\n",
      "enter a number, y= 5\n",
      "x= 5\n",
      "y= 10\n"
     ]
    }
   ],
   "source": [
    "x=int(input('enter a number, x= '))\n",
    "y=int(input('enter a number, y= '))\n",
    "#storing x in temp\n",
    "temp=x\n",
    "x=y\n",
    "y=temp\n",
    "print('x=',x)\n",
    "print('y=',y)"
   ]
  },
  {
   "cell_type": "markdown",
   "id": "70336d5a",
   "metadata": {},
   "source": [
    "5.Write a Python program to generate a random number?"
   ]
  },
  {
   "cell_type": "code",
   "execution_count": 4,
   "id": "3a0e036b",
   "metadata": {},
   "outputs": [
    {
     "name": "stdout",
     "output_type": "stream",
     "text": [
      "15\n"
     ]
    }
   ],
   "source": [
    "#importing rand module\n",
    "import random\n",
    "print(random.randint(0,100))# print a random number from 0 to 99"
   ]
  }
 ],
 "metadata": {
  "kernelspec": {
   "display_name": "Python 3",
   "language": "python",
   "name": "python3"
  },
  "language_info": {
   "codemirror_mode": {
    "name": "ipython",
    "version": 3
   },
   "file_extension": ".py",
   "mimetype": "text/x-python",
   "name": "python",
   "nbconvert_exporter": "python",
   "pygments_lexer": "ipython3",
   "version": "3.8.8"
  }
 },
 "nbformat": 4,
 "nbformat_minor": 5
}
